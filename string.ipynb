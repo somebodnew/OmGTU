{
 "cells": [
  {
   "cell_type": "code",
   "execution_count": null,
   "metadata": {
    "dotnet_interactive": {
     "language": "csharp"
    },
    "polyglot_notebook": {
     "kernelName": "csharp"
    }
   },
   "outputs": [],
   "source": [
    "var rand = new Random();\n",
    "string stroka = \"1234567890\";\n",
    "char[] tara = stroka.ToCharArray();\n",
    "\n",
    "for (int i = 0; i<=1000000; i++)\n",
    "{\n",
    "    tara[i % 10] = (char)rand.Next(0x0410, 0x44F);\n",
    "    \n",
    "    \n",
    "}\n",
    "tara"
   ]
  },
  {
   "cell_type": "code",
   "execution_count": null,
   "metadata": {},
   "outputs": [],
   "source": [
    "var rand = new Random();\n",
    "StringBuilder stroka = new StringBuilder(\"1234567890\");\n",
    "\n",
    "for (int i = 0; i<=1000000; i++)\n",
    "{\n",
    "    stroka[i % 10] = (char)rand.Next(0x0410, 0x44F);\n",
    "    \n",
    "    \n",
    "}\n",
    "stroka"
   ]
  },
  {
   "cell_type": "code",
   "execution_count": null,
   "metadata": {},
   "outputs": [],
   "source": [
    "using System.Text.RegularExpressions;\n",
    "\n",
    "DateTime date1 = new DateTime(2008, 1, 1, 12, 49, 1);\n",
    "string pattern = @\"^([0-2][0-9]|[0-9])[:][0-5][0-9]$\";\n",
    "var time = date1.ToString(\"HH:mm\");\n",
    "Console.WriteLine(time);\n",
    "Console.WriteLine(Regex.IsMatch(time,pattern));"
   ]
  },
  {
   "cell_type": "code",
   "execution_count": 3,
   "metadata": {},
   "outputs": [
    {
     "name": "stdout",
     "output_type": "stream",
     "text": [
      "False\r\n"
     ]
    }
   ],
   "source": [
    "using System.Text.RegularExpressions;\n",
    "\n",
    "string pattern = \"^([a-zA-Z0-9])([_a-zA-Z0-9-]*)([.][_a-zA-Z0-9-]+)*([@])([a-zA-Z0-9]+)[.]([a-zA-Z0-9]+)$\";\n",
    "\n",
    "string email = \"timadehq.sajhswj.ashgsdjj@dhj.com\";\n",
    "\n",
    "Console.WriteLine(Regex.IsMatch(email,pattern));"
   ]
  }
 ],
 "metadata": {
  "kernelspec": {
   "display_name": ".NET (C#)",
   "language": "C#",
   "name": ".net-csharp"
  },
  "polyglot_notebook": {
   "kernelInfo": {
    "defaultKernelName": "csharp",
    "items": [
     {
      "aliases": [],
      "languageName": "csharp",
      "name": "csharp"
     }
    ]
   }
  }
 },
 "nbformat": 4,
 "nbformat_minor": 2
}
