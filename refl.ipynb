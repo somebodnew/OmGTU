{
 "cells": [
  {
   "cell_type": "code",
   "execution_count": 13,
   "metadata": {
    "dotnet_interactive": {
     "language": "csharp"
    },
    "polyglot_notebook": {
     "kernelName": "csharp"
    }
   },
   "outputs": [
    {
     "name": "stdout",
     "output_type": "stream",
     "text": [
      "Classes and interfaces:\n",
      "Microsoft.CodeAnalysis.EmbeddedAttribute\n",
      "Методы:\n",
      "Return type: Boolean, Method name:Equals, Parameter List:Object obj\n",
      "Return type: Int32, Method name:GetHashCode, Parameter List:\n",
      "Return type: Object, Method name:get_TypeId, Parameter List:\n",
      "Return type: Boolean, Method name:Match, Parameter List:Object obj\n",
      "Return type: Boolean, Method name:IsDefaultAttribute, Parameter List:\n",
      "Return type: Type, Method name:GetType, Parameter List:\n",
      "Return type: String, Method name:ToString, Parameter List:\n",
      "\n",
      "System.Runtime.CompilerServices.NullableAttribute\n",
      "Методы:\n",
      "Return type: Boolean, Method name:Equals, Parameter List:Object obj\n",
      "Return type: Int32, Method name:GetHashCode, Parameter List:\n",
      "Return type: Object, Method name:get_TypeId, Parameter List:\n",
      "Return type: Boolean, Method name:Match, Parameter List:Object obj\n",
      "Return type: Boolean, Method name:IsDefaultAttribute, Parameter List:\n",
      "Return type: Type, Method name:GetType, Parameter List:\n",
      "Return type: String, Method name:ToString, Parameter List:\n",
      "\n",
      "System.Runtime.CompilerServices.NullableContextAttribute\n",
      "Методы:\n",
      "Return type: Boolean, Method name:Equals, Parameter List:Object obj\n",
      "Return type: Int32, Method name:GetHashCode, Parameter List:\n",
      "Return type: Object, Method name:get_TypeId, Parameter List:\n",
      "Return type: Boolean, Method name:Match, Parameter List:Object obj\n",
      "Return type: Boolean, Method name:IsDefaultAttribute, Parameter List:\n",
      "Return type: Type, Method name:GetType, Parameter List:\n",
      "Return type: String, Method name:ToString, Parameter List:\n",
      "\n",
      "HWdTech.ICommand\n",
      "Методы:\n",
      "Return type: Void, Method name:Execute, Parameter List:\n",
      "\n",
      "HWdTech.IoC\n",
      "Методы:\n",
      "Return type: T, Method name:Resolve, Parameter List:String dependency, Object[] args\n",
      "Return type: Type, Method name:GetType, Parameter List:\n",
      "Return type: String, Method name:ToString, Parameter List:\n",
      "Return type: Boolean, Method name:Equals, Parameter List:Object obj\n",
      "Return type: Int32, Method name:GetHashCode, Parameter List:\n",
      "\n",
      "HWdTech.IoC+SetupCommand\n",
      "Методы:\n",
      "Return type: Void, Method name:Execute, Parameter List:\n",
      "Return type: Type, Method name:GetType, Parameter List:\n",
      "Return type: String, Method name:ToString, Parameter List:\n",
      "Return type: Boolean, Method name:Equals, Parameter List:Object obj\n",
      "Return type: Int32, Method name:GetHashCode, Parameter List:\n",
      "\n",
      "HWdTech.IoC+<>c\n",
      "Методы:\n",
      "Return type: Type, Method name:GetType, Parameter List:\n",
      "Return type: String, Method name:ToString, Parameter List:\n",
      "Return type: Boolean, Method name:Equals, Parameter List:Object obj\n",
      "Return type: Int32, Method name:GetHashCode, Parameter List:\n",
      "\n"
     ]
    }
   ],
   "source": [
    "using System;\n",
    "using System.Reflection;\n",
    "\n",
    "Assembly assembly = Assembly.LoadFrom(\"core.dll\");\n",
    "\n",
    "Type[] types = assembly.GetTypes();\n",
    "\n",
    "Console.WriteLine(\"Classes and interfaces:\");\n",
    "\n",
    "foreach(Type type in types){\n",
    "    Console.WriteLine(type);\n",
    "    MethodInfo[] methodInfos = type.GetMethods(BindingFlags.Public | BindingFlags.Instance | BindingFlags.Static);\n",
    "    if(methodInfos.Length > 0){\n",
    "        Console.WriteLine(\"Methods:\");\n",
    "        foreach (MethodInfo method in methodInfos)\n",
    "        {\n",
    "            string methodName = method.Name;\n",
    "            string returnType = method.ReturnType.Name;\n",
    "            ParameterInfo[] parameters = method.GetParameters();\n",
    "            string parameterList = string.Join(\", \", parameters.Select(p => p.ParameterType.Name + \" \" + p.Name));\n",
    "            Console.WriteLine(\"Return type: \" + returnType + \", Method name:\" + methodName + \", Parameter List:\" + parameterList);\n",
    "        }\n",
    "        Console.WriteLine();\n",
    "    } \n",
    "}"
   ]
  }
 ],
 "metadata": {
  "kernelspec": {
   "display_name": ".NET (C#)",
   "language": "C#",
   "name": ".net-csharp"
  },
  "language_info": {
   "name": "polyglot-notebook"
  },
  "polyglot_notebook": {
   "kernelInfo": {
    "defaultKernelName": "csharp",
    "items": [
     {
      "aliases": [],
      "name": "csharp"
     }
    ]
   }
  }
 },
 "nbformat": 4,
 "nbformat_minor": 2
}
