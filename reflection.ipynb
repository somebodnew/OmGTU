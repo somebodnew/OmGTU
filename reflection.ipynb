{
 "cells": [
  {
   "cell_type": "code",
   "execution_count": 14,
   "metadata": {
    "dotnet_interactive": {
     "language": "csharp"
    },
    "polyglot_notebook": {
     "kernelName": "csharp"
    }
   },
   "outputs": [
    {
     "name": "stdout",
     "output_type": "stream",
     "text": [
      "ПУБЛИЧНЫЕ МЕТОДЫ И ИНТЕРФЕЙСЫ\n",
      "\n",
      "HWdTech.ICommand\n",
      "МЕТОДЫ:\n",
      "Void Execute()\n",
      "\n",
      "HWdTech.IoC\n",
      "МЕТОДЫ:\n",
      "T Resolve(String dependency, Object[] args)\n",
      "Type GetType()\n",
      "String ToString()\n",
      "Boolean Equals(Object obj)\n",
      "Int32 GetHashCode()\n",
      "\n"
     ]
    }
   ],
   "source": [
    "using System;\n",
    "using System.Reflection;\n",
    "\n",
    "Assembly assembly = Assembly.LoadFrom(\"core.dll\");\n",
    "\n",
    "Type[] types = assembly.GetTypes();\n",
    "\n",
    "Console.WriteLine(\"ПУБЛИЧНЫЕ МЕТОДЫ И ИНТЕРФЕЙСЫ\\n\");\n",
    "\n",
    "foreach(Type type in types.Where(type => type.IsPublic)){\n",
    "    Console.WriteLine(type);\n",
    "    MethodInfo[] methodInfos = type.GetMethods(BindingFlags.Public | BindingFlags.Instance | BindingFlags.Static);\n",
    "    if(methodInfos.Length > 0){\n",
    "        Console.WriteLine(\"МЕТОДЫ:\");\n",
    "        foreach (MethodInfo method in methodInfos)\n",
    "        {\n",
    "            string methodName = method.Name;\n",
    "            string returnType = method.ReturnType.Name;\n",
    "            ParameterInfo[] parameters = method.GetParameters();\n",
    "            string parameterList = string.Join(\", \", parameters.Select(p => p.ParameterType.Name + \" \" + p.Name));\n",
    "            Console.WriteLine(returnType + \" \" + methodName + \"(\" + parameterList + \")\");\n",
    "        }\n",
    "        Console.WriteLine();\n",
    "    } \n",
    "}"
   ]
  }
 ],
 "metadata": {
  "kernelspec": {
   "display_name": ".NET (C#)",
   "language": "C#",
   "name": ".net-csharp"
  },
  "language_info": {
   "name": "polyglot-notebook"
  },
  "polyglot_notebook": {
   "kernelInfo": {
    "defaultKernelName": "csharp",
    "items": [
     {
      "aliases": [],
      "name": "csharp"
     }
    ]
   }
  }
 },
 "nbformat": 4,
 "nbformat_minor": 2
}
